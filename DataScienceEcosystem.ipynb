{
 "cells": [
  {
   "cell_type": "markdown",
   "id": "30513072-a96b-4040-a755-33cd7328d10a",
   "metadata": {},
   "source": [
    "# Data Science Tools and Ecosystem"
   ]
  },
  {
   "cell_type": "markdown",
   "id": "9fadd008-6b29-4086-9590-accfd65cd5a9",
   "metadata": {},
   "source": [
    "In this notebook, Data Science Tools and Ecosystem are summarized."
   ]
  },
  {
   "cell_type": "markdown",
   "id": "b2e759ea-4b0c-4b26-8b59-3b7b7cb8a6ff",
   "metadata": {},
   "source": [
    "Some of the popular languages that Data Scientists use are:\n",
    "1. Python\n",
    "2. R\n",
    "3. SQL\n",
    "4. Java\n",
    "5. Julia\n",
    "6. Scala\n",
    "7. C/C++\n",
    "8. JavaScript"
   ]
  },
  {
   "cell_type": "markdown",
   "id": "56d46952-9c1a-43dc-8ab9-b4f10238cd0b",
   "metadata": {},
   "source": [
    "Some of the commonly used libraries used by Data Scientists include:\n",
    "1. TensorFlow\n",
    "2. NumPy\n",
    "3. SciPy\n",
    "4. Pandas\n",
    "5. Matplotlib\n",
    "6. Keras\n",
    "7. SciKit-Learn\n",
    "8. PyTorch"
   ]
  },
  {
   "cell_type": "markdown",
   "id": "f9c705de-7ee7-4277-847c-7edd11fde4c8",
   "metadata": {},
   "source": [
    "| Data Science Tools |\n",
    "| :----------------: |\n",
    "| Apache Hadoop |\n",
    "| Apache Spark |\n",
    "| SAS |\n",
    "| Python |\n",
    "| R |"
   ]
  },
  {
   "cell_type": "markdown",
   "id": "5cb068ec-bee6-49a3-a894-101336a6bbc9",
   "metadata": {},
   "source": [
    "### Below are a few examples of evaluating arithmetic expressions in Python"
   ]
  },
  {
   "cell_type": "code",
   "execution_count": null,
   "id": "ac65398f-9ad3-4d16-8024-ed78067220c2",
   "metadata": {},
   "outputs": [],
   "source": [
    "This a simple arithmetic expression to mutiply then add integers"
   ]
  },
  {
   "cell_type": "code",
   "execution_count": 70,
   "id": "6c85de4d-de23-407a-8ba0-c51487ea2ff4",
   "metadata": {},
   "outputs": [
    {
     "data": {
      "text/plain": [
       "17"
      ]
     },
     "execution_count": 70,
     "metadata": {},
     "output_type": "execute_result"
    }
   ],
   "source": [
    "(3*4)+5"
   ]
  },
  {
   "cell_type": "code",
   "execution_count": null,
   "id": "4a4652e7-b128-44af-bd26-2f3bbcc004ba",
   "metadata": {},
   "outputs": [],
   "source": [
    "This will convert 200 minutes to hours by diving by 60"
   ]
  },
  {
   "cell_type": "code",
   "execution_count": 2,
   "id": "9f1cba35-8370-4ed7-9593-9dfd59b1ae18",
   "metadata": {},
   "outputs": [
    {
     "data": {
      "text/plain": [
       "3.3333333333333335"
      ]
     },
     "execution_count": 2,
     "metadata": {},
     "output_type": "execute_result"
    }
   ],
   "source": [
    "(200/60)"
   ]
  },
  {
   "cell_type": "markdown",
   "id": "38bc7e6f-f463-43ab-97c3-4edffc836ceb",
   "metadata": {},
   "source": [
    "**Objectives**\n",
    "\n",
    "* How to create a Jupyter Notebook\n",
    "* How insert code and markdown cells\n",
    "* When to use markdown and code attribute\n",
    "* What are the popular languages for Data Science\n",
    "* What libraries used by Data Scientists\n",
    "* List of data science tools"
   ]
  },
  {
   "cell_type": "markdown",
   "id": "7cb270e0-81e3-46dd-825f-ad24f0c163f7",
   "metadata": {},
   "source": [
    "## Author\n",
    "Eshetu Lemma Haile"
   ]
  }
 ],
 "metadata": {
  "kernelspec": {
   "display_name": "anaconda-panel-2023.05-py310",
   "language": "python",
   "name": "conda-env-anaconda-panel-2023.05-py310-py"
  },
  "language_info": {
   "codemirror_mode": {
    "name": "ipython",
    "version": 3
   },
   "file_extension": ".py",
   "mimetype": "text/x-python",
   "name": "python",
   "nbconvert_exporter": "python",
   "pygments_lexer": "ipython3",
   "version": "3.11.5"
  }
 },
 "nbformat": 4,
 "nbformat_minor": 5
}
